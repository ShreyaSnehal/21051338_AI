{
  "nbformat": 4,
  "nbformat_minor": 0,
  "metadata": {
    "colab": {
      "provenance": [],
      "authorship_tag": "ABX9TyPrJ4NQsY2w8NQ4lp0bmRvY"
    },
    "kernelspec": {
      "name": "python3",
      "display_name": "Python 3"
    },
    "language_info": {
      "name": "python"
    }
  },
  "cells": [
    {
      "cell_type": "code",
      "execution_count": null,
      "metadata": {
        "id": "J-hqOYYtkwI-"
      },
      "outputs": [],
      "source": [
        "from google.colab import drive\n",
        "from PIL import Image\n",
        "import numpy as np\n",
        "import random\n",
        "import requests\n",
        "from IPython.display import display\n",
        "import matplotlib.pyplot as plt\n",
        "\n",
        "\n",
        "# Function to generate a canvas\n",
        "def generate_canvas(h, w):\n",
        "    \"\"\"Generates a canvas of height h and width w.\"\"\"\n",
        "    canvas = np.zeros((h, w, 3), dtype=np.uint8)\n",
        "    return canvas\n",
        "\n",
        "# Function to generate random squares\n",
        "def generate_squares(n, h, w):\n",
        "    \"\"\"Generates n random squares in the canvas.\"\"\"\n",
        "    squares = []\n",
        "    for i in range(n):\n",
        "        x = random.randint(0, h - 1)\n",
        "        y = random.randint(0, w - 1)\n",
        "        rgb = np.random.randint(0, 255, size=3)\n",
        "        opacity = random.uniform(0, 1)\n",
        "        squares.append((x, y, rgb, opacity))\n",
        "    return squares\n",
        "\n",
        "# Function to evaluate the quality of each square in relation to the input image\n",
        "def evaluate_square(square, input_image):\n",
        "    x, y, rgb, opacity = square\n",
        "    # Simple evaluation method (squared difference as an example)\n",
        "    return np.sum(np.square(input_image[x, y] - (rgb * opacity)))\n",
        "\n",
        "# Function to generate an image using squares\n",
        "def generate_image_using_squares(input_image, n_squares, N, generations):\n",
        "    squares = generate_squares(n_squares, input_image.shape[0], input_image.shape[1])\n",
        "\n",
        "    for i in range(generations):\n",
        "        objective_function_values = [evaluate_square(square, input_image) for square in squares]\n",
        "        # Perform genetic algorithm steps: crossover, mutation, selection\n",
        "\n",
        "    canvas = generate_canvas(input_image.shape[0], input_image.shape[1])\n",
        "    for square in squares:\n",
        "        x, y, rgb, opacity = square\n",
        "        canvas[x, y] += (rgb * opacity).astype(np.uint8)\n",
        "\n",
        "    return canvas\n",
        "\n",
        "# Mount Google Drive\n",
        "drive.mount('/content/drive')\n",
        "\n",
        "# Replace 'YOUR_IMAGE_ID' with your image ID from Google Drive\n",
        "input_image_link = 'https://drive.google.com/file/d/1vT9R04WqOCrSfj9IJggkBqyzFUR5BdGw/view?usp=sharing'\n",
        "\n",
        "# Load the image as a numpy array\n",
        "\n",
        "input_image = np.array(Image.open(input_image_link))\n",
        "\n",
        "# Example usage: Generate an image using the genetic algorithm\n",
        "n_squares = 100  # Number of squares\n",
        "N = 50  # Number of selected squares\n",
        "generations = 100  # Number of generations\n",
        "\n",
        "# Generate the image using the genetic algorithm with squares\n",
        "generated_image = generate_image_using_squares(input_image, n_squares, N, generations)\n",
        "\n",
        "# Display the generated image\n",
        "display(Image.fromarray(generated_image))"
      ]
    }
  ]
}